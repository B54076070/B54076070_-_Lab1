{
 "cells": [
  {
   "cell_type": "code",
   "execution_count": null,
   "id": "43036576",
   "metadata": {},
   "outputs": [
    {
     "name": "stdout",
     "output_type": "stream",
     "text": [
      "Welcome to ROCK, PAPER, SCISSORS game!\n",
      "Enter your move:(r)ock (p)aper (s)cissorsr\n",
      "ROCK versus...\n",
      "PAPER\n",
      "You lose!\n"
     ]
    }
   ],
   "source": [
    "print(\"Welcome to ROCK, PAPER, SCISSORS game!\")\n",
    "\n",
    "import random\n",
    "guess_list = [\"ROCK\", \"PAPER\", \"SCISSORS\"]\n",
    "win_combination = [[\"PAPER\", \"ROCK\"], [\"ROCK\", \"SCISSORS\"], [\"SCISSORS\", \"PAPER\"]]\n",
    "\n",
    "while True:\n",
    "    computer = random.choice(guess_list)\n",
    "    people = input(\"Enter your move:(r)ock (p)aper (s)cissors\").strip()\n",
    "    \n",
    "    if people == \"r\" :\n",
    "        print(\"ROCK versus...\")\n",
    "    \n",
    "    elif people == \"s\" :\n",
    "        print(\"SCISSORS versus...\")\n",
    "        \n",
    "    elif people == \"p\" :\n",
    "        print(\"PAPER versus...\")\n",
    "        \n",
    "    print(computer) \n",
    "\n",
    "    if  people == computer:\n",
    "        print (\"It is a tie!\")\n",
    "        \n",
    "    elif [people, computer] in win_combination:\n",
    "        print (\"You win!\")\n",
    "        \n",
    "    else:\n",
    "        print (\"You lose!\")\n",
    "break \n",
    " "
   ]
  },
  {
   "cell_type": "code",
   "execution_count": null,
   "id": "7df0c099",
   "metadata": {},
   "outputs": [],
   "source": []
  },
  {
   "cell_type": "code",
   "execution_count": null,
   "id": "2f102bbc",
   "metadata": {},
   "outputs": [],
   "source": []
  }
 ],
 "metadata": {
  "kernelspec": {
   "display_name": "Python 3",
   "language": "python",
   "name": "python3"
  },
  "language_info": {
   "codemirror_mode": {
    "name": "ipython",
    "version": 3
   },
   "file_extension": ".py",
   "mimetype": "text/x-python",
   "name": "python",
   "nbconvert_exporter": "python",
   "pygments_lexer": "ipython3",
   "version": "3.8.8"
  }
 },
 "nbformat": 4,
 "nbformat_minor": 5
}
