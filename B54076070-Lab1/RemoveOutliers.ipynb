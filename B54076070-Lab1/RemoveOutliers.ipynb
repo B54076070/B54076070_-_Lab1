{
 "cells": [
  {
   "cell_type": "code",
   "execution_count": 7,
   "id": "e153a24a",
   "metadata": {},
   "outputs": [
    {
     "name": "stdout",
     "output_type": "stream",
     "text": [
      "Enter the number of smallest and largest values to remove:  2\n",
      "Enter a value (q and Q to quit)1\n",
      "Enter a value (q and Q to quit)3\n",
      "Enter a value (q and Q to quit)4\n",
      "Enter a value (q and Q to quit)6\n",
      "Enter a value (q and Q to quit)7\n",
      "Enter a value (q and Q to quit)3\n",
      "Enter a value (q and Q to quit)5\n",
      "Enter a value (q and Q to quit)77\n",
      "Enter a value (q and Q to quit)44\n",
      "Enter a value (q and Q to quit)q\n",
      "original_data [1, 3, 4, 6, 7, 3, 5, 77, 44]\n",
      "The data with the outliers removed: [3, 4, 5, 6, 7]\n",
      "The outliers: [44, 77, 1, 3]\n"
     ]
    }
   ],
   "source": [
    "num = float(input(\"Enter the number of smallest and largest values to remove:  \"))  \n",
    "original_data = []\n",
    "outliers = [] \n",
    "keepdata = []\n",
    "\n",
    "while True:\n",
    "    data = str(input(\"Enter a value (q and Q to quit)\"))\n",
    "    if data == \"q\":\n",
    "        break\n",
    "    if data == \"Q\":\n",
    "        break\n",
    "    else: \n",
    "        original_data.append(int(data))\n",
    "print(\"original_data\", original_data)\n",
    "\n",
    "original_data.sort()\n",
    "max = original_data[-int(num):]\n",
    "min = original_data[:int(num)]\n",
    "\n",
    "outlier = max + min\n",
    "\n",
    "keepdata = original_data[int(num):-int(num)]\n",
    "\n",
    "print(\"The data with the outliers removed:\", keepdata)\n",
    "print(\"The outliers:\", outlier)\n"
   ]
  },
  {
   "cell_type": "code",
   "execution_count": null,
   "id": "04c083fb",
   "metadata": {},
   "outputs": [],
   "source": []
  },
  {
   "cell_type": "code",
   "execution_count": null,
   "id": "08c733fc",
   "metadata": {},
   "outputs": [],
   "source": []
  },
  {
   "cell_type": "code",
   "execution_count": null,
   "id": "ba16e7b5",
   "metadata": {},
   "outputs": [],
   "source": []
  }
 ],
 "metadata": {
  "kernelspec": {
   "display_name": "Python 3",
   "language": "python",
   "name": "python3"
  },
  "language_info": {
   "codemirror_mode": {
    "name": "ipython",
    "version": 3
   },
   "file_extension": ".py",
   "mimetype": "text/x-python",
   "name": "python",
   "nbconvert_exporter": "python",
   "pygments_lexer": "ipython3",
   "version": "3.8.8"
  }
 },
 "nbformat": 4,
 "nbformat_minor": 5
}
